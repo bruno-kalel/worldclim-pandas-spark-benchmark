{
  "nbformat": 4,
  "nbformat_minor": 0,
  "metadata": {
    "colab": {
      "provenance": [],
      "collapsed_sections": [
        "g2nISzvqO73j",
        "1CGaOrXhO-n-",
        "mht9AT4BO_9X",
        "lbIPMX8KPBvE",
        "DgNe_565Rrev",
        "Az79s3SORrv4",
        "BgANgIJsRrx8",
        "Cht4pOm6Rr1O",
        "dpC4T05DRr20",
        "gGnHtEkISYzt",
        "cAVRZMsySd2j",
        "yWS3fGoiSfbr",
        "Mwn94xiPSh6N",
        "fMqbRBNwSkPi",
        "KJzo7LrzS_DP",
        "KA_5nhTPTDAX",
        "cr-wL-HMTDi0",
        "r3w2qeuNTfpq",
        "d0OLU9b4ThTg"
      ],
      "authorship_tag": "ABX9TyPFwFjuVovyUeDXyn4tt8sl"
    },
    "kernelspec": {
      "name": "python3",
      "display_name": "Python 3"
    },
    "language_info": {
      "name": "python"
    }
  },
  "cells": [
    {
      "cell_type": "code",
      "execution_count": null,
      "metadata": {
        "colab": {
          "base_uri": "https://localhost:8080/"
        },
        "id": "R2s-8BhJNuIp",
        "outputId": "cd28dfea-2016-48a0-e9ca-8e046edd350e"
      },
      "outputs": [
        {
          "output_type": "stream",
          "name": "stdout",
          "text": [
            "Python 3.10.12\n"
          ]
        }
      ],
      "source": [
        "!python --version"
      ]
    },
    {
      "cell_type": "code",
      "source": [
        "%%capture\n",
        "!pip install pyspark raster2xyz"
      ],
      "metadata": {
        "id": "dOs9hURYN2Eq"
      },
      "execution_count": null,
      "outputs": []
    },
    {
      "cell_type": "markdown",
      "source": [
        "# ⬇️ Downloads\n",
        "---"
      ],
      "metadata": {
        "id": "g2nISzvqO73j"
      }
    },
    {
      "cell_type": "code",
      "source": [
        "# Direct download minimum temperature URLs\n",
        "tmin = ['https://biogeo.ucdavis.edu/data/worldclim/v2.1/base/wc2.1_10m_tmin.zip',\n",
        "        'https://biogeo.ucdavis.edu/data/worldclim/v2.1/base/wc2.1_5m_tmin.zip',\n",
        "        'https://biogeo.ucdavis.edu/data/worldclim/v2.1/base/wc2.1_2.5m_tmin.zip',\n",
        "        'https://biogeo.ucdavis.edu/data/worldclim/v2.1/base/wc2.1_30s_tmin.zip']"
      ],
      "metadata": {
        "id": "-bwx-TYQPTC1"
      },
      "execution_count": null,
      "outputs": []
    },
    {
      "cell_type": "code",
      "source": [
        "# Direct download maximum temperature URLs\n",
        "tmax = ['https://biogeo.ucdavis.edu/data/worldclim/v2.1/base/wc2.1_10m_tmax.zip',\n",
        "        'https://biogeo.ucdavis.edu/data/worldclim/v2.1/base/wc2.1_5m_tmax.zip',\n",
        "        'https://biogeo.ucdavis.edu/data/worldclim/v2.1/base/wc2.1_2.5m_tmax.zip',\n",
        "        'https://biogeo.ucdavis.edu/data/worldclim/v2.1/base/wc2.1_30s_tmax.zip']"
      ],
      "metadata": {
        "id": "90EIpGOePTE7"
      },
      "execution_count": null,
      "outputs": []
    },
    {
      "cell_type": "code",
      "source": [
        "# Direct download average temperature URLs\n",
        "tavg = ['https://biogeo.ucdavis.edu/data/worldclim/v2.1/base/wc2.1_10m_tavg.zip',\n",
        "        'https://biogeo.ucdavis.edu/data/worldclim/v2.1/base/wc2.1_5m_tavg.zip',\n",
        "        'https://biogeo.ucdavis.edu/data/worldclim/v2.1/base/wc2.1_2.5m_tavg.zip',\n",
        "        'https://biogeo.ucdavis.edu/data/worldclim/v2.1/base/wc2.1_30s_tavg.zip']"
      ],
      "metadata": {
        "id": "ILJ2uKAuPTGp"
      },
      "execution_count": null,
      "outputs": []
    },
    {
      "cell_type": "code",
      "source": [
        "# Direct download precipitation URLs\n",
        "prec = ['https://biogeo.ucdavis.edu/data/worldclim/v2.1/base/wc2.1_10m_prec.zip',\n",
        "        'https://biogeo.ucdavis.edu/data/worldclim/v2.1/base/wc2.1_5m_prec.zip',\n",
        "        'https://biogeo.ucdavis.edu/data/worldclim/v2.1/base/wc2.1_2.5m_prec.zip',\n",
        "        'https://biogeo.ucdavis.edu/data/worldclim/v2.1/base/wc2.1_30s_prec.zip']"
      ],
      "metadata": {
        "id": "3YcJDTD5PTIm"
      },
      "execution_count": null,
      "outputs": []
    },
    {
      "cell_type": "code",
      "source": [
        "# Combine all URLs into one list\n",
        "urls = tmin + tmax + tavg + prec\n",
        "urls"
      ],
      "metadata": {
        "colab": {
          "base_uri": "https://localhost:8080/"
        },
        "id": "Jl6Iu0uOPbB4",
        "outputId": "bfbebe24-17f6-4563-8e92-d67c70cd0f7b"
      },
      "execution_count": null,
      "outputs": [
        {
          "output_type": "execute_result",
          "data": {
            "text/plain": [
              "['https://biogeo.ucdavis.edu/data/worldclim/v2.1/base/wc2.1_10m_tmin.zip',\n",
              " 'https://biogeo.ucdavis.edu/data/worldclim/v2.1/base/wc2.1_5m_tmin.zip',\n",
              " 'https://biogeo.ucdavis.edu/data/worldclim/v2.1/base/wc2.1_2.5m_tmin.zip',\n",
              " 'https://biogeo.ucdavis.edu/data/worldclim/v2.1/base/wc2.1_30s_tmin.zip',\n",
              " 'https://biogeo.ucdavis.edu/data/worldclim/v2.1/base/wc2.1_10m_tmax.zip',\n",
              " 'https://biogeo.ucdavis.edu/data/worldclim/v2.1/base/wc2.1_5m_tmax.zip',\n",
              " 'https://biogeo.ucdavis.edu/data/worldclim/v2.1/base/wc2.1_2.5m_tmax.zip',\n",
              " 'https://biogeo.ucdavis.edu/data/worldclim/v2.1/base/wc2.1_30s_tmax.zip',\n",
              " 'https://biogeo.ucdavis.edu/data/worldclim/v2.1/base/wc2.1_10m_tavg.zip',\n",
              " 'https://biogeo.ucdavis.edu/data/worldclim/v2.1/base/wc2.1_5m_tavg.zip',\n",
              " 'https://biogeo.ucdavis.edu/data/worldclim/v2.1/base/wc2.1_2.5m_tavg.zip',\n",
              " 'https://biogeo.ucdavis.edu/data/worldclim/v2.1/base/wc2.1_30s_tavg.zip',\n",
              " 'https://biogeo.ucdavis.edu/data/worldclim/v2.1/base/wc2.1_10m_prec.zip',\n",
              " 'https://biogeo.ucdavis.edu/data/worldclim/v2.1/base/wc2.1_5m_prec.zip',\n",
              " 'https://biogeo.ucdavis.edu/data/worldclim/v2.1/base/wc2.1_2.5m_prec.zip',\n",
              " 'https://biogeo.ucdavis.edu/data/worldclim/v2.1/base/wc2.1_30s_prec.zip']"
            ]
          },
          "metadata": {},
          "execution_count": 7
        }
      ]
    },
    {
      "cell_type": "code",
      "source": [
        "# Loop through each URL and download with wget\n",
        "for url in urls:\n",
        "  !wget -q --show-progress \"$url\""
      ],
      "metadata": {
        "colab": {
          "base_uri": "https://localhost:8080/"
        },
        "id": "5vsvxWl7PbSr",
        "outputId": "817792d5-1428-4e39-b9fa-4790d0a7a8f5"
      },
      "execution_count": null,
      "outputs": [
        {
          "output_type": "stream",
          "name": "stdout",
          "text": [
            "wc2.1_10m_tmin.zip  100%[===================>]  35.86M  36.6MB/s    in 1.0s    \n",
            "wc2.1_5m_tmin.zip   100%[===================>] 122.61M  39.2MB/s    in 3.1s    \n",
            "wc2.1_2.5m_tmin.zip 100%[===================>] 429.89M  39.1MB/s    in 11s     \n",
            "wc2.1_30s_tmin.zip  100%[===================>]   4.09G  37.2MB/s    in 1m 48s  \n",
            "wc2.1_10m_tmax.zip  100%[===================>]  35.71M  34.9MB/s    in 1.0s    \n",
            "wc2.1_5m_tmax.zip   100%[===================>] 120.84M  38.8MB/s    in 3.1s    \n",
            "wc2.1_2.5m_tmax.zip 100%[===================>] 423.77M  39.4MB/s    in 11s     \n",
            "wc2.1_30s_tmax.zip  100%[===================>]   4.08G  38.1MB/s    in 1m 47s  \n",
            "wc2.1_10m_tavg.zip  100%[===================>]  35.63M  34.8MB/s    in 1.0s    \n",
            "wc2.1_5m_tavg.zip   100%[===================>] 120.85M  38.6MB/s    in 3.2s    \n",
            "wc2.1_2.5m_tavg.zip 100%[===================>] 422.69M  38.5MB/s    in 11s     \n",
            "wc2.1_30s_tavg.zip  100%[===================>]   4.00G  40.0MB/s    in 1m 44s  \n",
            "wc2.1_10m_prec.zip  100%[===================>]   6.92M  28.2MB/s    in 0.2s    \n",
            "wc2.1_5m_prec.zip   100%[===================>]  21.64M  36.0MB/s    in 0.6s    \n",
            "wc2.1_2.5m_prec.zip 100%[===================>]  68.46M  38.1MB/s    in 1.8s    \n",
            "wc2.1_30s_prec.zip  100%[===================>] 977.90M  38.2MB/s    in 25s     \n"
          ]
        }
      ]
    },
    {
      "cell_type": "markdown",
      "source": [
        "# ✳️ Imports\n",
        "---"
      ],
      "metadata": {
        "id": "1CGaOrXhO-n-"
      }
    },
    {
      "cell_type": "code",
      "source": [
        "from pyspark.sql import SparkSession"
      ],
      "metadata": {
        "id": "uOxq5fAXPsOc"
      },
      "execution_count": null,
      "outputs": []
    },
    {
      "cell_type": "code",
      "source": [
        "import pandas as pd"
      ],
      "metadata": {
        "id": "zjUQkFZzPsQt"
      },
      "execution_count": null,
      "outputs": []
    },
    {
      "cell_type": "code",
      "source": [
        "import numpy as np"
      ],
      "metadata": {
        "id": "cotzsagrPsSw"
      },
      "execution_count": null,
      "outputs": []
    },
    {
      "cell_type": "markdown",
      "source": [
        "# 🅰️ Variáveis\n",
        "---"
      ],
      "metadata": {
        "id": "mht9AT4BO_9X"
      }
    },
    {
      "cell_type": "code",
      "source": [
        "NÚMERO_AMOSTRAS = 32"
      ],
      "metadata": {
        "id": "3kH2OQPvQdCr"
      },
      "execution_count": null,
      "outputs": []
    },
    {
      "cell_type": "code",
      "source": [
        "# A omissão do parâmetro '.master' permite que o Spark utilize todos os núcleos de CPU disponíveis por padrão\n",
        "spark = SparkSession.builder.getOrCreate()"
      ],
      "metadata": {
        "id": "2wIpdR4MQdE5"
      },
      "execution_count": null,
      "outputs": []
    },
    {
      "cell_type": "markdown",
      "source": [
        "# 🧮 Funções\n",
        "---"
      ],
      "metadata": {
        "id": "lbIPMX8KPBvE"
      }
    },
    {
      "cell_type": "code",
      "source": [
        "def carregar_csv_pandas_dataframe(caminho_arquivo:str):\n",
        "  pd.read_csv(caminho_arquivo)"
      ],
      "metadata": {
        "id": "0FPj2uzWRGW4"
      },
      "execution_count": null,
      "outputs": []
    },
    {
      "cell_type": "code",
      "source": [
        "def carregar_csv_spark_dataframe(caminho_arquivo:str):\n",
        "  spark.read.csv(caminho_arquivo)"
      ],
      "metadata": {
        "id": "qIzyo2KIRGZI"
      },
      "execution_count": null,
      "outputs": []
    },
    {
      "cell_type": "code",
      "source": [
        "def calcular_tempo_execução(função, caminho_arquivo, número_amostras=NÚMERO_AMOSTRAS):\n",
        "  tempos = []\n",
        "\n",
        "  for _ in range(número_amostras):\n",
        "    # -q: Suppress output\n",
        "    # -r 1: Run only 1 repeat\n",
        "    # -n 1: Execute the function only once per run\n",
        "    # -o: Return a TimeitResult object\n",
        "    # 1 por vez pois precisamos de 32 amostras separadas e não um objeto TimeitResult com 32 valores\n",
        "    tempo = %timeit -q -r 1 -n 1 -o função(caminho_arquivo)\n",
        "    tempos.append(tempo.best)\n",
        "\n",
        "  return np.array(tempos)"
      ],
      "metadata": {
        "id": "4gdAVkVKRWWO"
      },
      "execution_count": null,
      "outputs": []
    },
    {
      "cell_type": "markdown",
      "source": [
        "# ↘️ minimum temperature (°C)\n",
        "---"
      ],
      "metadata": {
        "id": "DgNe_565Rrev"
      }
    },
    {
      "cell_type": "markdown",
      "source": [
        "## minimum temperature (°C) - 10 minutes"
      ],
      "metadata": {
        "id": "Az79s3SORrv4"
      }
    },
    {
      "cell_type": "code",
      "source": [
        "!unzip -o wc2.1_10m_tmin.zip\n",
        "!raster2xyz wc2.1_10m_tmin_01.tif wc2.1_10m_tmin_01.csv"
      ],
      "metadata": {
        "colab": {
          "base_uri": "https://localhost:8080/"
        },
        "id": "RwDXaMSaRwYA",
        "outputId": "99b46e5b-d93e-4f53-e053-c618d84436b3"
      },
      "execution_count": null,
      "outputs": [
        {
          "output_type": "stream",
          "name": "stdout",
          "text": [
            "Archive:  wc2.1_10m_tmin.zip\n",
            "  inflating: wc2.1_10m_tmin_01.tif   \n",
            "  inflating: wc2.1_10m_tmin_02.tif   \n",
            "  inflating: wc2.1_10m_tmin_03.tif   \n",
            "  inflating: wc2.1_10m_tmin_04.tif   \n",
            "  inflating: wc2.1_10m_tmin_05.tif   \n",
            "  inflating: wc2.1_10m_tmin_06.tif   \n",
            "  inflating: wc2.1_10m_tmin_07.tif   \n",
            "  inflating: wc2.1_10m_tmin_08.tif   \n",
            "  inflating: wc2.1_10m_tmin_09.tif   \n",
            "  inflating: wc2.1_10m_tmin_10.tif   \n",
            "  inflating: wc2.1_10m_tmin_11.tif   \n",
            "  inflating: wc2.1_10m_tmin_12.tif   \n",
            "[2024-05-05 03:02:34 - INFO] - Getting geotransform and data...\n",
            "[2024-05-05 03:02:34 - INFO] - Getting XYZ data...\n",
            "[2024-05-05 03:02:34 - INFO] - Getting geotransformed coordinates...\n",
            "[2024-05-05 03:02:34 - INFO] - Building XYZ data...\n",
            "[2024-05-05 03:02:42 - INFO] - New XYZ (csv file) created...\n"
          ]
        }
      ]
    },
    {
      "cell_type": "code",
      "source": [
        "caminho = 'wc2.1_10m_tmin_01.csv'"
      ],
      "metadata": {
        "id": "E7R8oFkmRwZ-"
      },
      "execution_count": null,
      "outputs": []
    },
    {
      "cell_type": "code",
      "source": [
        "tempos_tmin_10m_pandas = calcular_tempo_execução(carregar_csv_pandas_dataframe, caminho)\n",
        "tempos_tmin_10m_pandas"
      ],
      "metadata": {
        "colab": {
          "base_uri": "https://localhost:8080/"
        },
        "id": "MINFXwbfRwb2",
        "outputId": "ab4fba67-a02c-4242-dc02-d69d6959a309"
      },
      "execution_count": null,
      "outputs": [
        {
          "output_type": "execute_result",
          "data": {
            "text/plain": [
              "array([1.09651472, 1.92865718, 1.73240856, 1.07692   , 1.07480664,\n",
              "       1.09495064, 1.08160305, 1.08540921, 1.08082396, 1.10814988,\n",
              "       1.07558786, 1.07337964, 1.86450389, 1.89914597, 1.0511635 ,\n",
              "       1.05311617, 1.0571062 , 1.07804957, 1.06163485, 1.05201735,\n",
              "       1.04771623, 1.27148751, 1.05669025, 2.0539455 , 1.56308199,\n",
              "       1.05212413, 1.05443223, 1.1540952 , 1.04987888, 1.061428  ,\n",
              "       1.26483365, 1.06355035])"
            ]
          },
          "metadata": {},
          "execution_count": 20
        }
      ]
    },
    {
      "cell_type": "code",
      "source": [
        "tempos_tmin_10m_spark = calcular_tempo_execução(carregar_csv_spark_dataframe, caminho)\n",
        "tempos_tmin_10m_spark"
      ],
      "metadata": {
        "colab": {
          "base_uri": "https://localhost:8080/"
        },
        "id": "-HRu0e0nRweF",
        "outputId": "15a03a01-3e71-491f-fb36-ea1314d4314f"
      },
      "execution_count": null,
      "outputs": [
        {
          "output_type": "execute_result",
          "data": {
            "text/plain": [
              "array([10.61609087,  0.48086456,  0.60021178,  0.37439656,  0.35239764,\n",
              "        0.50137273,  0.41451636,  0.30278204,  0.3997988 ,  0.58516363,\n",
              "        0.27120372,  0.32519276,  0.4863475 ,  0.41910192,  0.61690987,\n",
              "        0.83484451,  0.29530197,  0.56488182,  0.49748738,  0.45656465,\n",
              "        0.24190956,  0.34474178,  0.18119981,  0.25310707,  0.464886  ,\n",
              "        0.20872152,  0.21848589,  0.24955264,  0.19495704,  0.25835682,\n",
              "        0.28925133,  0.18551876])"
            ]
          },
          "metadata": {},
          "execution_count": 21
        }
      ]
    },
    {
      "cell_type": "markdown",
      "source": [
        "## minimum temperature (°C) - 5 minutes"
      ],
      "metadata": {
        "id": "BgANgIJsRrx8"
      }
    },
    {
      "cell_type": "code",
      "source": [
        "!unzip -o wc2.1_5m_tmin.zip\n",
        "!raster2xyz wc2.1_5m_tmin_01.tif wc2.1_5m_tmin_01.csv"
      ],
      "metadata": {
        "colab": {
          "base_uri": "https://localhost:8080/"
        },
        "id": "g091eFgDR7My",
        "outputId": "35d4f3ac-a95e-456a-8418-70a7c58a1b65"
      },
      "execution_count": null,
      "outputs": [
        {
          "output_type": "stream",
          "name": "stdout",
          "text": [
            "Archive:  wc2.1_5m_tmin.zip\n",
            "  inflating: wc2.1_5m_tmin_01.tif    \n",
            "  inflating: wc2.1_5m_tmin_02.tif    \n",
            "  inflating: wc2.1_5m_tmin_03.tif    \n",
            "  inflating: wc2.1_5m_tmin_04.tif    \n",
            "  inflating: wc2.1_5m_tmin_05.tif    \n",
            "  inflating: wc2.1_5m_tmin_06.tif    \n",
            "  inflating: wc2.1_5m_tmin_07.tif    \n",
            "  inflating: wc2.1_5m_tmin_08.tif    \n",
            "  inflating: wc2.1_5m_tmin_09.tif    \n",
            "  inflating: wc2.1_5m_tmin_10.tif    \n",
            "  inflating: wc2.1_5m_tmin_11.tif    \n",
            "  inflating: wc2.1_5m_tmin_12.tif    \n",
            "[2024-05-05 03:03:47 - INFO] - Getting geotransform and data...\n",
            "[2024-05-05 03:03:48 - INFO] - Getting XYZ data...\n",
            "[2024-05-05 03:03:48 - INFO] - Getting geotransformed coordinates...\n",
            "[2024-05-05 03:03:48 - INFO] - Building XYZ data...\n",
            "[2024-05-05 03:04:29 - INFO] - New XYZ (csv file) created...\n"
          ]
        }
      ]
    },
    {
      "cell_type": "code",
      "source": [
        "caminho = 'wc2.1_5m_tmin_01.csv'"
      ],
      "metadata": {
        "id": "Unir59zxR7O_"
      },
      "execution_count": null,
      "outputs": []
    },
    {
      "cell_type": "code",
      "source": [
        "tempos_tmin_5m_pandas = calcular_tempo_execução(carregar_csv_pandas_dataframe, caminho)\n",
        "tempos_tmin_5m_pandas"
      ],
      "metadata": {
        "colab": {
          "base_uri": "https://localhost:8080/"
        },
        "id": "2YP6_dsqR7Qs",
        "outputId": "e1c91c04-db11-4654-cf8d-48ef7ce37953"
      },
      "execution_count": null,
      "outputs": [
        {
          "output_type": "execute_result",
          "data": {
            "text/plain": [
              "array([5.09985534, 6.73521953, 4.68469608, 4.56373373, 6.60820232,\n",
              "       4.43435481, 4.31532468, 6.12600466, 7.10282545, 4.36091988,\n",
              "       6.39178986, 4.56757425, 4.36835416, 6.78228962, 4.42824718,\n",
              "       4.46978931, 6.63246734, 4.28738209, 4.40366311, 7.28363112,\n",
              "       4.25900127, 4.83628286, 6.39460229, 4.21916754, 4.40398114,\n",
              "       6.44045961, 4.48104072, 4.21410691, 6.13824167, 4.86001926,\n",
              "       4.32020807, 5.97052166])"
            ]
          },
          "metadata": {},
          "execution_count": 24
        }
      ]
    },
    {
      "cell_type": "code",
      "source": [
        "tempos_tmin_5m_spark = calcular_tempo_execução(carregar_csv_spark_dataframe, caminho)\n",
        "tempos_tmin_5m_spark"
      ],
      "metadata": {
        "colab": {
          "base_uri": "https://localhost:8080/"
        },
        "id": "ye6WjF9eR7Sr",
        "outputId": "96c1706e-d022-4091-d673-24b55fa5e873"
      },
      "execution_count": null,
      "outputs": [
        {
          "output_type": "execute_result",
          "data": {
            "text/plain": [
              "array([0.39998119, 0.64494531, 0.40640171, 0.70102898, 0.39100834,\n",
              "       0.16740431, 0.2404334 , 0.38286395, 0.15890038, 0.1878957 ,\n",
              "       0.3034137 , 0.14929356, 0.23343168, 0.30481368, 0.15284096,\n",
              "       0.2924216 , 0.40003815, 0.30208382, 0.22374634, 0.28968781,\n",
              "       0.13374217, 0.19345593, 0.25109034, 0.14795041, 0.16528393,\n",
              "       0.27441928, 0.17205191, 0.27428718, 0.15716856, 0.1934094 ,\n",
              "       0.23536078, 0.1923723 ])"
            ]
          },
          "metadata": {},
          "execution_count": 25
        }
      ]
    },
    {
      "cell_type": "markdown",
      "source": [
        "## minimum temperature (°C) - 2.5 minutes"
      ],
      "metadata": {
        "id": "Cht4pOm6Rr1O"
      }
    },
    {
      "cell_type": "code",
      "source": [
        "!unzip -o wc2.1_2.5m_tmin.zip\n",
        "!raster2xyz wc2.1_2.5m_tmin_01.tif wc2.1_2.5m_tmin_01.csv"
      ],
      "metadata": {
        "colab": {
          "base_uri": "https://localhost:8080/"
        },
        "id": "beSKBYAlSB4u",
        "outputId": "4fe8f222-3bd1-40ba-b5bd-57f9a2ed7c6e"
      },
      "execution_count": null,
      "outputs": [
        {
          "output_type": "stream",
          "name": "stdout",
          "text": [
            "Archive:  wc2.1_2.5m_tmin.zip\n",
            "  inflating: wc2.1_2.5m_tmin_01.tif  \n",
            "  inflating: wc2.1_2.5m_tmin_02.tif  \n",
            "  inflating: wc2.1_2.5m_tmin_03.tif  \n",
            "  inflating: wc2.1_2.5m_tmin_04.tif  \n",
            "  inflating: wc2.1_2.5m_tmin_05.tif  \n",
            "  inflating: wc2.1_2.5m_tmin_06.tif  \n",
            "  inflating: wc2.1_2.5m_tmin_07.tif  \n",
            "  inflating: wc2.1_2.5m_tmin_08.tif  \n",
            "  inflating: wc2.1_2.5m_tmin_09.tif  \n",
            "  inflating: wc2.1_2.5m_tmin_10.tif  \n",
            "  inflating: wc2.1_2.5m_tmin_11.tif  \n",
            "  inflating: wc2.1_2.5m_tmin_12.tif  \n",
            "[2024-05-05 03:07:36 - INFO] - Getting geotransform and data...\n",
            "[2024-05-05 03:07:38 - INFO] - Getting XYZ data...\n",
            "[2024-05-05 03:07:40 - INFO] - Getting geotransformed coordinates...\n",
            "[2024-05-05 03:07:42 - INFO] - Building XYZ data...\n",
            "[2024-05-05 03:10:48 - INFO] - New XYZ (csv file) created...\n"
          ]
        }
      ]
    },
    {
      "cell_type": "code",
      "source": [
        "caminho = 'wc2.1_2.5m_tmin_01.csv'"
      ],
      "metadata": {
        "id": "UR_biAfKSB63"
      },
      "execution_count": null,
      "outputs": []
    },
    {
      "cell_type": "code",
      "source": [
        "tempos_tmin_2_5m_pandas = calcular_tempo_execução(carregar_csv_pandas_dataframe, caminho)\n",
        "tempos_tmin_2_5m_pandas"
      ],
      "metadata": {
        "colab": {
          "base_uri": "https://localhost:8080/"
        },
        "id": "6vcy3FWXSB8e",
        "outputId": "0adbbea5-f2da-4546-a825-0eb5834730d7"
      },
      "execution_count": null,
      "outputs": [
        {
          "output_type": "execute_result",
          "data": {
            "text/plain": [
              "array([21.91878809, 22.46864899, 23.03490272, 21.836362  , 29.90102256,\n",
              "       24.95047976, 23.16257622, 22.6187023 , 22.72868633, 21.63556661,\n",
              "       21.12074067, 21.14091241, 21.24494502, 24.80432814, 26.38433257,\n",
              "       22.03750191, 21.16162602, 21.36923378, 21.03705011, 22.65572653,\n",
              "       25.1609865 , 25.41051628, 22.59656895, 28.59358495, 31.35772773,\n",
              "       21.40200054, 21.53118578, 22.64893798, 22.88124442, 22.99024501,\n",
              "       21.95327131, 21.1883131 ])"
            ]
          },
          "metadata": {},
          "execution_count": 28
        }
      ]
    },
    {
      "cell_type": "code",
      "source": [
        "tempos_tmin_2_5m_spark = calcular_tempo_execução(carregar_csv_spark_dataframe, caminho)\n",
        "tempos_tmin_2_5m_spark"
      ],
      "metadata": {
        "colab": {
          "base_uri": "https://localhost:8080/"
        },
        "id": "04XDKc8RSB-V",
        "outputId": "4890068b-e321-4d17-b1ba-437e8603bf00"
      },
      "execution_count": null,
      "outputs": [
        {
          "output_type": "execute_result",
          "data": {
            "text/plain": [
              "array([0.54865686, 0.68240785, 0.2967396 , 0.39597665, 0.59844292,\n",
              "       0.34284685, 0.61710819, 0.31403838, 0.42243781, 0.54444601,\n",
              "       0.28141423, 0.38684959, 0.57876986, 0.19700149, 0.23527247,\n",
              "       0.29485367, 0.17021741, 0.30960696, 0.15253902, 0.2220213 ,\n",
              "       0.34290053, 0.18126155, 0.20359312, 0.27919184, 0.17577979,\n",
              "       0.41704932, 0.31162529, 0.27283949, 0.45496178, 0.18604649,\n",
              "       0.32719642, 0.40014776])"
            ]
          },
          "metadata": {},
          "execution_count": 29
        }
      ]
    },
    {
      "cell_type": "markdown",
      "source": [
        "## minimum temperature (°C) - 30 seconds"
      ],
      "metadata": {
        "id": "dpC4T05DRr20"
      }
    },
    {
      "cell_type": "code",
      "source": [
        "!unzip -o wc2.1_30s_tmin.zip\n",
        "!raster2xyz wc2.1_30s_tmin_01.tif wc2.1_30s_tmin_01.csv"
      ],
      "metadata": {
        "colab": {
          "base_uri": "https://localhost:8080/"
        },
        "id": "rdSz_UJnSI7o",
        "outputId": "38f4197d-bcc9-4df1-ebe6-ee38a73c9814"
      },
      "execution_count": null,
      "outputs": [
        {
          "output_type": "stream",
          "name": "stdout",
          "text": [
            "Archive:  wc2.1_30s_tmin.zip\n",
            "  inflating: wc2.1_30s_tmin_01.tif   \n",
            "  inflating: wc2.1_30s_tmin_02.tif   \n",
            "  inflating: wc2.1_30s_tmin_03.tif   \n",
            "  inflating: wc2.1_30s_tmin_04.tif   \n",
            "  inflating: wc2.1_30s_tmin_05.tif   \n",
            "  inflating: wc2.1_30s_tmin_06.tif   \n",
            "  inflating: wc2.1_30s_tmin_07.tif   \n",
            "  inflating: wc2.1_30s_tmin_08.tif   \n",
            "  inflating: wc2.1_30s_tmin_09.tif   \n",
            "  inflating: wc2.1_30s_tmin_10.tif   \n",
            "  inflating: wc2.1_30s_tmin_11.tif   \n",
            "  inflating: wc2.1_30s_tmin_12.tif   \n",
            "[2024-05-05 03:24:44 - INFO] - Getting geotransform and data...\n",
            "[2024-05-05 03:25:04 - INFO] - Getting XYZ data...\n",
            "^C\n"
          ]
        }
      ]
    },
    {
      "cell_type": "markdown",
      "source": [
        "⚠️⚠️⚠️ NÃO RODOU"
      ],
      "metadata": {
        "id": "FR_2zvhpRr4P"
      }
    },
    {
      "cell_type": "markdown",
      "source": [
        "# ↗️ maximum temperature (°C)\n",
        "---"
      ],
      "metadata": {
        "id": "gGnHtEkISYzt"
      }
    },
    {
      "cell_type": "markdown",
      "source": [
        "## maximum temperature (°C) - 10 minutes"
      ],
      "metadata": {
        "id": "cAVRZMsySd2j"
      }
    },
    {
      "cell_type": "code",
      "source": [
        "!unzip -o wc2.1_10m_tmax.zip\n",
        "!raster2xyz wc2.1_10m_tmax_01.tif wc2.1_10m_tmax_01.csv"
      ],
      "metadata": {
        "colab": {
          "base_uri": "https://localhost:8080/"
        },
        "id": "TGkax2kvSeqa",
        "outputId": "548e7927-9717-4fdd-d5d0-c2ff54bc5714"
      },
      "execution_count": null,
      "outputs": [
        {
          "output_type": "stream",
          "name": "stdout",
          "text": [
            "Archive:  wc2.1_10m_tmax.zip\n",
            "  inflating: wc2.1_10m_tmax_01.tif   \n",
            "  inflating: wc2.1_10m_tmax_02.tif   \n",
            "  inflating: wc2.1_10m_tmax_03.tif   \n",
            "  inflating: wc2.1_10m_tmax_04.tif   \n",
            "  inflating: wc2.1_10m_tmax_05.tif   \n",
            "  inflating: wc2.1_10m_tmax_06.tif   \n",
            "  inflating: wc2.1_10m_tmax_07.tif   \n",
            "  inflating: wc2.1_10m_tmax_08.tif   \n",
            "  inflating: wc2.1_10m_tmax_09.tif   \n",
            "  inflating: wc2.1_10m_tmax_10.tif   \n",
            "  inflating: wc2.1_10m_tmax_11.tif   \n",
            "  inflating: wc2.1_10m_tmax_12.tif   \n",
            "[2024-05-05 03:26:00 - INFO] - Getting geotransform and data...\n",
            "[2024-05-05 03:26:00 - INFO] - Getting XYZ data...\n",
            "[2024-05-05 03:26:00 - INFO] - Getting geotransformed coordinates...\n",
            "[2024-05-05 03:26:00 - INFO] - Building XYZ data...\n",
            "[2024-05-05 03:26:11 - INFO] - New XYZ (csv file) created...\n"
          ]
        }
      ]
    },
    {
      "cell_type": "code",
      "source": [
        "caminho = 'wc2.1_10m_tmax_01.csv'"
      ],
      "metadata": {
        "id": "fQgInilcSesf"
      },
      "execution_count": null,
      "outputs": []
    },
    {
      "cell_type": "code",
      "source": [
        "tempos_tmax_10m_pandas = calcular_tempo_execução(carregar_csv_pandas_dataframe, caminho)\n",
        "tempos_tmax_10m_pandas"
      ],
      "metadata": {
        "colab": {
          "base_uri": "https://localhost:8080/"
        },
        "id": "4ZCbLIMUSeuU",
        "outputId": "88f28fc6-8ebe-437e-85c8-c1452b264a43"
      },
      "execution_count": null,
      "outputs": [
        {
          "output_type": "execute_result",
          "data": {
            "text/plain": [
              "array([1.14577042, 1.065425  , 1.06796233, 1.06060689, 1.06280462,\n",
              "       1.68506023, 1.65656975, 1.64193231, 1.68576336, 1.54232639,\n",
              "       1.54882975, 1.56067302, 1.54567521, 1.59078913, 1.53827337,\n",
              "       1.04816972, 1.05080167, 1.07025979, 1.05222374, 1.04440354,\n",
              "       1.05534045, 1.05006567, 1.05135041, 1.04812837, 1.65339027,\n",
              "       1.69723092, 1.64060141, 1.68963323, 1.53648165, 1.55833837,\n",
              "       1.54044601, 1.55066103])"
            ]
          },
          "metadata": {},
          "execution_count": 33
        }
      ]
    },
    {
      "cell_type": "code",
      "source": [
        "tempos_tmax_10m_spark = calcular_tempo_execução(carregar_csv_spark_dataframe, caminho)\n",
        "tempos_tmax_10m_spark"
      ],
      "metadata": {
        "colab": {
          "base_uri": "https://localhost:8080/"
        },
        "id": "daRJ_9IASaKG",
        "outputId": "682126ad-1fe1-4879-d36e-a0923e476c1a"
      },
      "execution_count": null,
      "outputs": [
        {
          "output_type": "execute_result",
          "data": {
            "text/plain": [
              "array([0.31741242, 0.34659916, 0.67164996, 0.2497124 , 0.42431173,\n",
              "       0.52964002, 0.42156102, 0.34897502, 0.11568891, 0.15950086,\n",
              "       0.21276041, 0.13845357, 0.21803963, 0.24602251, 0.17652461,\n",
              "       0.32978719, 0.15396393, 0.26225915, 0.40170511, 0.28857844,\n",
              "       0.31924561, 0.37512576, 0.23125244, 0.31920805, 0.22731866,\n",
              "       0.26859756, 0.50621371, 0.20218027, 0.30880089, 0.38200384,\n",
              "       0.30288018, 0.53120345])"
            ]
          },
          "metadata": {},
          "execution_count": 34
        }
      ]
    },
    {
      "cell_type": "markdown",
      "source": [
        "## maximum temperature (°C) - 5 minutes"
      ],
      "metadata": {
        "id": "yWS3fGoiSfbr"
      }
    },
    {
      "cell_type": "code",
      "source": [
        "!unzip -o wc2.1_5m_tmax.zip\n",
        "!raster2xyz wc2.1_5m_tmax_01.tif wc2.1_5m_tmax_01.csv"
      ],
      "metadata": {
        "colab": {
          "base_uri": "https://localhost:8080/"
        },
        "id": "QpBIG5VJShUx",
        "outputId": "a9ee3365-2790-4b97-8f97-c6c35bd0f37d"
      },
      "execution_count": null,
      "outputs": [
        {
          "output_type": "stream",
          "name": "stdout",
          "text": [
            "Archive:  wc2.1_5m_tmax.zip\n",
            "  inflating: wc2.1_5m_tmax_01.tif    \n",
            "  inflating: wc2.1_5m_tmax_02.tif    \n",
            "  inflating: wc2.1_5m_tmax_03.tif    \n",
            "  inflating: wc2.1_5m_tmax_04.tif    \n",
            "  inflating: wc2.1_5m_tmax_05.tif    \n",
            "  inflating: wc2.1_5m_tmax_06.tif    \n",
            "  inflating: wc2.1_5m_tmax_07.tif    \n",
            "  inflating: wc2.1_5m_tmax_08.tif    \n",
            "  inflating: wc2.1_5m_tmax_09.tif    \n",
            "  inflating: wc2.1_5m_tmax_10.tif    \n",
            "  inflating: wc2.1_5m_tmax_11.tif    \n",
            "  inflating: wc2.1_5m_tmax_12.tif    \n",
            "[2024-05-05 03:27:09 - INFO] - Getting geotransform and data...\n",
            "[2024-05-05 03:27:09 - INFO] - Getting XYZ data...\n",
            "[2024-05-05 03:27:09 - INFO] - Getting geotransformed coordinates...\n",
            "[2024-05-05 03:27:10 - INFO] - Building XYZ data...\n",
            "[2024-05-05 03:27:55 - INFO] - New XYZ (csv file) created...\n"
          ]
        }
      ]
    },
    {
      "cell_type": "code",
      "source": [
        "caminho = 'wc2.1_5m_tmax_01.csv'"
      ],
      "metadata": {
        "id": "bO4ifcuTShXF"
      },
      "execution_count": null,
      "outputs": []
    },
    {
      "cell_type": "code",
      "source": [
        "tempos_tmax_5m_pandas = calcular_tempo_execução(carregar_csv_pandas_dataframe, caminho)\n",
        "tempos_tmax_5m_pandas"
      ],
      "metadata": {
        "colab": {
          "base_uri": "https://localhost:8080/"
        },
        "id": "yonfo22PShZE",
        "outputId": "53bea81b-83ee-4aae-c011-b3dee8045445"
      },
      "execution_count": null,
      "outputs": [
        {
          "output_type": "execute_result",
          "data": {
            "text/plain": [
              "array([5.81406333, 4.25728858, 4.23228132, 6.83510865, 6.19864793,\n",
              "       5.87499672, 4.22707689, 4.21086917, 6.63218258, 6.2306895 ,\n",
              "       6.08276236, 4.21098008, 4.2042824 , 6.36024542, 6.46560765,\n",
              "       6.23463887, 4.20677787, 4.19516268, 6.1266056 , 8.18477583,\n",
              "       6.39089196, 4.35814194, 4.199565  , 5.71649772, 6.45629645,\n",
              "       6.26901125, 4.87462694, 4.20460812, 5.48464883, 7.03956044,\n",
              "       6.60218129, 6.49956204])"
            ]
          },
          "metadata": {},
          "execution_count": 37
        }
      ]
    },
    {
      "cell_type": "code",
      "source": [
        "tempos_tmax_5m_spark = calcular_tempo_execução(carregar_csv_spark_dataframe, caminho)\n",
        "tempos_tmax_5m_spark"
      ],
      "metadata": {
        "colab": {
          "base_uri": "https://localhost:8080/"
        },
        "id": "BuknCEklShnh",
        "outputId": "0eaf3aa6-f8fc-489f-cd32-edec27f9aee4"
      },
      "execution_count": null,
      "outputs": [
        {
          "output_type": "execute_result",
          "data": {
            "text/plain": [
              "array([0.33237996, 0.32783826, 0.70159399, 0.59774013, 0.39208637,\n",
              "       0.48799606, 0.68402144, 0.45347246, 0.5307972 , 0.52782223,\n",
              "       0.45562413, 0.50926794, 0.50089446, 0.60659993, 0.61680847,\n",
              "       0.6205956 , 0.44254287, 0.35456353, 0.488107  , 0.26792379,\n",
              "       0.51469691, 0.39672615, 0.45342397, 0.45273829, 0.29933982,\n",
              "       0.28167073, 0.20492498, 0.20126426, 0.16777502, 0.30729408,\n",
              "       0.1625291 , 0.29630257])"
            ]
          },
          "metadata": {},
          "execution_count": 38
        }
      ]
    },
    {
      "cell_type": "markdown",
      "source": [
        "## maximum temperature (°C) - 2.5 minutes"
      ],
      "metadata": {
        "id": "Mwn94xiPSh6N"
      }
    },
    {
      "cell_type": "code",
      "source": [
        "!unzip -o wc2.1_2.5m_tmax.zip\n",
        "!raster2xyz wc2.1_2.5m_tmax_01.tif wc2.1_2.5m_tmax_01.csv"
      ],
      "metadata": {
        "colab": {
          "base_uri": "https://localhost:8080/"
        },
        "id": "crxMkuQ7Sj0p",
        "outputId": "d86fdd7c-d7e3-4988-96f1-25a65f0caeb1"
      },
      "execution_count": null,
      "outputs": [
        {
          "output_type": "stream",
          "name": "stdout",
          "text": [
            "Archive:  wc2.1_2.5m_tmax.zip\n",
            "  inflating: wc2.1_2.5m_tmax_01.tif  \n",
            "  inflating: wc2.1_2.5m_tmax_02.tif  \n",
            "  inflating: wc2.1_2.5m_tmax_03.tif  \n",
            "  inflating: wc2.1_2.5m_tmax_04.tif  \n",
            "  inflating: wc2.1_2.5m_tmax_05.tif  \n",
            "  inflating: wc2.1_2.5m_tmax_06.tif  \n",
            "  inflating: wc2.1_2.5m_tmax_07.tif  \n",
            "  inflating: wc2.1_2.5m_tmax_08.tif  \n",
            "  inflating: wc2.1_2.5m_tmax_09.tif  \n",
            "  inflating: wc2.1_2.5m_tmax_10.tif  \n",
            "  inflating: wc2.1_2.5m_tmax_11.tif  \n",
            "  inflating: wc2.1_2.5m_tmax_12.tif  \n",
            "[2024-05-05 03:31:17 - INFO] - Getting geotransform and data...\n",
            "[2024-05-05 03:31:18 - INFO] - Getting XYZ data...\n",
            "[2024-05-05 03:31:19 - INFO] - Getting geotransformed coordinates...\n",
            "[2024-05-05 03:31:20 - INFO] - Building XYZ data...\n",
            "[2024-05-05 03:34:18 - INFO] - New XYZ (csv file) created...\n"
          ]
        }
      ]
    },
    {
      "cell_type": "code",
      "source": [
        "caminho = 'wc2.1_2.5m_tmax_01.csv'"
      ],
      "metadata": {
        "id": "Q1Qin_AiSj24"
      },
      "execution_count": null,
      "outputs": []
    },
    {
      "cell_type": "code",
      "source": [
        "tempos_tmax_2_5m_pandas = calcular_tempo_execução(carregar_csv_pandas_dataframe, caminho)\n",
        "tempos_tmax_2_5m_pandas"
      ],
      "metadata": {
        "colab": {
          "base_uri": "https://localhost:8080/"
        },
        "id": "BC0uC8dXSj43",
        "outputId": "4d0aaa32-bf5a-4a08-ecbc-99fc13efaf94"
      },
      "execution_count": null,
      "outputs": [
        {
          "output_type": "execute_result",
          "data": {
            "text/plain": [
              "array([26.73142437, 26.37797096, 29.5336333 , 23.23373661, 25.22137616,\n",
              "       21.05992993, 24.11774114, 22.9715695 , 27.09830325, 26.95660172,\n",
              "       20.65927704, 26.14766159, 21.18612355, 22.84234813, 23.98149512,\n",
              "       20.92609901, 25.47939626, 22.79968255, 28.59868439, 23.65261095,\n",
              "       24.8577057 , 22.31473772, 21.3911671 , 25.37439465, 20.99630117,\n",
              "       23.69268335, 24.58591468, 38.79006027, 26.80051478, 21.22664294,\n",
              "       25.66526452, 21.71297053])"
            ]
          },
          "metadata": {},
          "execution_count": 41
        }
      ]
    },
    {
      "cell_type": "code",
      "source": [
        "tempos_tmax_2_5m_spark = calcular_tempo_execução(carregar_csv_spark_dataframe, caminho)\n",
        "tempos_tmax_2_5m_spark"
      ],
      "metadata": {
        "colab": {
          "base_uri": "https://localhost:8080/"
        },
        "id": "qlAiQHU-Sj6u",
        "outputId": "e1c8a2d4-8805-4bea-b8b4-a19ba73016c7"
      },
      "execution_count": null,
      "outputs": [
        {
          "output_type": "execute_result",
          "data": {
            "text/plain": [
              "array([0.42524551, 0.33667031, 0.6691793 , 0.30961909, 0.54985269,\n",
              "       0.29899613, 0.45069243, 0.18175942, 0.24736885, 0.34870092,\n",
              "       0.46602408, 0.29165522, 0.20064963, 0.42882115, 0.15841262,\n",
              "       0.34483292, 0.33915346, 0.2337079 , 0.4538029 , 0.35738783,\n",
              "       0.37101775, 0.16634394, 0.25517216, 0.47535965, 0.35184963,\n",
              "       0.33488681, 0.29764513, 0.39766627, 0.19070699, 0.26259059,\n",
              "       0.47166282, 0.31954537])"
            ]
          },
          "metadata": {},
          "execution_count": 42
        }
      ]
    },
    {
      "cell_type": "markdown",
      "source": [
        "## maximum temperature (°C) - 30 seconds"
      ],
      "metadata": {
        "id": "fMqbRBNwSkPi"
      }
    },
    {
      "cell_type": "code",
      "source": [
        "!unzip -o wc2.1_30s_tmax.zip\n",
        "!raster2xyz wc2.1_30s_tmax_01.tif wc2.1_30s_tmax_01.csv"
      ],
      "metadata": {
        "colab": {
          "base_uri": "https://localhost:8080/"
        },
        "id": "ezFN_wcUSm0R",
        "outputId": "88750580-4bef-48d8-cb6d-43ad803ec342"
      },
      "execution_count": null,
      "outputs": [
        {
          "output_type": "stream",
          "name": "stdout",
          "text": [
            "Archive:  wc2.1_30s_tmax.zip\n",
            "  inflating: wc2.1_30s_tmax_01.tif   \n",
            "  inflating: wc2.1_30s_tmax_02.tif   \n",
            "  inflating: wc2.1_30s_tmax_03.tif   \n",
            "  inflating: wc2.1_30s_tmax_04.tif   \n",
            "  inflating: wc2.1_30s_tmax_05.tif   \n",
            "  inflating: wc2.1_30s_tmax_06.tif   \n",
            "  inflating: wc2.1_30s_tmax_07.tif   \n",
            "  inflating: wc2.1_30s_tmax_08.tif   \n",
            "  inflating: wc2.1_30s_tmax_09.tif   \n",
            "  inflating: wc2.1_30s_tmax_10.tif   \n",
            "  inflating: wc2.1_30s_tmax_11.tif   \n",
            "  inflating: wc2.1_30s_tmax_12.tif   \n",
            "[2024-05-05 03:48:54 - INFO] - Getting geotransform and data...\n",
            "[2024-05-05 03:49:26 - INFO] - Getting XYZ data...\n",
            "^C\n"
          ]
        }
      ]
    },
    {
      "cell_type": "markdown",
      "source": [
        "⚠️⚠️⚠️ NÃO RODOU"
      ],
      "metadata": {
        "id": "obM3wdO8Sm8t"
      }
    },
    {
      "cell_type": "markdown",
      "source": [
        "# ➡️ average temperature (°C)\n",
        "---"
      ],
      "metadata": {
        "id": "6IXDqY6oS-hq"
      }
    },
    {
      "cell_type": "markdown",
      "source": [
        "## average temperature (°C) - 10 minutes"
      ],
      "metadata": {
        "id": "KJzo7LrzS_DP"
      }
    },
    {
      "cell_type": "code",
      "source": [
        "!unzip -o wc2.1_10m_tavg.zip\n",
        "!raster2xyz wc2.1_10m_tavg_01.tif wc2.1_10m_tavg_01.csv"
      ],
      "metadata": {
        "colab": {
          "base_uri": "https://localhost:8080/"
        },
        "id": "IM2k1RKbTIQp",
        "outputId": "0588c97a-7df1-48c5-90f6-250648924dc0"
      },
      "execution_count": null,
      "outputs": [
        {
          "output_type": "stream",
          "name": "stdout",
          "text": [
            "Archive:  wc2.1_10m_tavg.zip\n",
            "  inflating: wc2.1_10m_tavg_01.tif   \n",
            "  inflating: wc2.1_10m_tavg_02.tif   \n",
            "  inflating: wc2.1_10m_tavg_03.tif   \n",
            "  inflating: wc2.1_10m_tavg_04.tif   \n",
            "  inflating: wc2.1_10m_tavg_05.tif   \n",
            "  inflating: wc2.1_10m_tavg_06.tif   \n",
            "  inflating: wc2.1_10m_tavg_07.tif   \n",
            "  inflating: wc2.1_10m_tavg_08.tif   \n",
            "  inflating: wc2.1_10m_tavg_09.tif   \n",
            "  inflating: wc2.1_10m_tavg_10.tif   \n",
            "  inflating: wc2.1_10m_tavg_11.tif   \n",
            "  inflating: wc2.1_10m_tavg_12.tif   \n",
            "[2024-05-05 03:50:03 - INFO] - Getting geotransform and data...\n",
            "[2024-05-05 03:50:03 - INFO] - Getting XYZ data...\n",
            "[2024-05-05 03:50:03 - INFO] - Getting geotransformed coordinates...\n",
            "[2024-05-05 03:50:03 - INFO] - Building XYZ data...\n",
            "[2024-05-05 03:50:15 - INFO] - New XYZ (csv file) created...\n"
          ]
        }
      ]
    },
    {
      "cell_type": "code",
      "source": [
        "caminho = 'wc2.1_10m_tavg_01.csv'"
      ],
      "metadata": {
        "id": "zkdtjO-fTITJ"
      },
      "execution_count": null,
      "outputs": []
    },
    {
      "cell_type": "code",
      "source": [
        "tempos_tavg_10m_pandas = calcular_tempo_execução(carregar_csv_pandas_dataframe, caminho)\n",
        "tempos_tavg_10m_pandas"
      ],
      "metadata": {
        "colab": {
          "base_uri": "https://localhost:8080/"
        },
        "id": "6h1f1BIfTIVu",
        "outputId": "6b29f109-0ba2-4ad8-8493-a89a537a8b86"
      },
      "execution_count": null,
      "outputs": [
        {
          "output_type": "execute_result",
          "data": {
            "text/plain": [
              "array([1.67095224, 1.59415945, 1.54740913, 1.56684125, 1.54576367,\n",
              "       1.55890231, 1.55046573, 1.55559488, 1.53406872, 1.61137117,\n",
              "       1.65728699, 1.55598311, 1.05358486, 1.0486462 , 1.04736736,\n",
              "       1.06346051, 1.0590445 , 1.05737687, 1.04978988, 1.05203672,\n",
              "       1.04905119, 1.63300553, 1.70817386, 1.54133398, 1.66461122,\n",
              "       1.72526807, 1.70723569, 1.57014195, 1.53789074, 1.54831019,\n",
              "       1.5375979 , 1.55244788])"
            ]
          },
          "metadata": {},
          "execution_count": 46
        }
      ]
    },
    {
      "cell_type": "code",
      "source": [
        "tempos_tavg_10m_spark = calcular_tempo_execução(carregar_csv_spark_dataframe, caminho)\n",
        "tempos_tavg_10m_spark"
      ],
      "metadata": {
        "colab": {
          "base_uri": "https://localhost:8080/"
        },
        "id": "hGBX7MOiTIX7",
        "outputId": "d0a84690-c44b-4863-d8b0-934f828eb233"
      },
      "execution_count": null,
      "outputs": [
        {
          "output_type": "execute_result",
          "data": {
            "text/plain": [
              "array([0.42102882, 0.3772685 , 0.66608334, 0.28470964, 0.37043253,\n",
              "       0.34310877, 0.22473347, 0.41048625, 0.30841426, 0.41305062,\n",
              "       0.13252678, 0.2884215 , 0.38640405, 0.31257314, 0.34583945,\n",
              "       0.23527507, 0.44793408, 0.22378339, 0.27146326, 0.39783318,\n",
              "       0.30372355, 0.53384807, 0.29060354, 0.45317339, 0.1310093 ,\n",
              "       0.30083523, 0.33361983, 0.31134281, 0.33947985, 0.20031046,\n",
              "       0.37446124, 0.33696253])"
            ]
          },
          "metadata": {},
          "execution_count": 47
        }
      ]
    },
    {
      "cell_type": "markdown",
      "source": [
        "## average temperature (°C) - 5 minutes"
      ],
      "metadata": {
        "id": "KA_5nhTPTDAX"
      }
    },
    {
      "cell_type": "code",
      "source": [
        "!unzip -o wc2.1_5m_tavg.zip\n",
        "!raster2xyz wc2.1_5m_tavg_01.tif wc2.1_5m_tavg_01.csv"
      ],
      "metadata": {
        "colab": {
          "base_uri": "https://localhost:8080/"
        },
        "id": "PF1uWwGyTJHb",
        "outputId": "a3ca6425-f200-4009-c48e-6f6b3111b81f"
      },
      "execution_count": null,
      "outputs": [
        {
          "output_type": "stream",
          "name": "stdout",
          "text": [
            "Archive:  wc2.1_5m_tavg.zip\n",
            "  inflating: wc2.1_5m_tavg_01.tif    \n",
            "  inflating: wc2.1_5m_tavg_02.tif    \n",
            "  inflating: wc2.1_5m_tavg_03.tif    \n",
            "  inflating: wc2.1_5m_tavg_04.tif    \n",
            "  inflating: wc2.1_5m_tavg_05.tif    \n",
            "  inflating: wc2.1_5m_tavg_06.tif    \n",
            "  inflating: wc2.1_5m_tavg_07.tif    \n",
            "  inflating: wc2.1_5m_tavg_08.tif    \n",
            "  inflating: wc2.1_5m_tavg_09.tif    \n",
            "  inflating: wc2.1_5m_tavg_10.tif    \n",
            "  inflating: wc2.1_5m_tavg_11.tif    \n",
            "  inflating: wc2.1_5m_tavg_12.tif    \n",
            "[2024-05-05 03:51:15 - INFO] - Getting geotransform and data...\n",
            "[2024-05-05 03:51:16 - INFO] - Getting XYZ data...\n",
            "[2024-05-05 03:51:16 - INFO] - Getting geotransformed coordinates...\n",
            "[2024-05-05 03:51:16 - INFO] - Building XYZ data...\n",
            "[2024-05-05 03:51:59 - INFO] - New XYZ (csv file) created...\n"
          ]
        }
      ]
    },
    {
      "cell_type": "code",
      "source": [
        "caminho = 'wc2.1_5m_tavg_01.csv'"
      ],
      "metadata": {
        "id": "OH4AOYPOTJJv"
      },
      "execution_count": null,
      "outputs": []
    },
    {
      "cell_type": "code",
      "source": [
        "tempos_tavg_5m_pandas = calcular_tempo_execução(carregar_csv_pandas_dataframe, caminho)\n",
        "tempos_tavg_5m_pandas"
      ],
      "metadata": {
        "colab": {
          "base_uri": "https://localhost:8080/"
        },
        "id": "rDqmD7i9TJLw",
        "outputId": "2ef8a58c-0ea0-4ded-8a47-efb20ad2bebe"
      },
      "execution_count": null,
      "outputs": [
        {
          "output_type": "execute_result",
          "data": {
            "text/plain": [
              "array([4.82019564, 7.20367274, 6.69889182, 6.75569286, 6.40686515,\n",
              "       6.39544438, 6.45621162, 6.74151329, 6.65716585, 6.00474909,\n",
              "       4.23271093, 6.22652038, 6.7432803 , 6.20075697, 6.24374174,\n",
              "       6.29305074, 4.21396161, 4.21568794, 9.2360425 , 6.73970079,\n",
              "       6.2178584 , 6.22223169, 6.38309267, 4.23248857, 4.22493928,\n",
              "       6.07614687, 6.72506865, 6.20904935, 6.23014675, 6.45116059,\n",
              "       4.23687062, 4.22860959])"
            ]
          },
          "metadata": {},
          "execution_count": 50
        }
      ]
    },
    {
      "cell_type": "code",
      "source": [
        "tempos_tavg_5m_spark = calcular_tempo_execução(carregar_csv_spark_dataframe, caminho)\n",
        "tempos_tavg_5m_spark"
      ],
      "metadata": {
        "colab": {
          "base_uri": "https://localhost:8080/"
        },
        "id": "vEnq2_xzTJN-",
        "outputId": "48350b71-e47e-462e-824c-cb7f94ed2a5f"
      },
      "execution_count": null,
      "outputs": [
        {
          "output_type": "execute_result",
          "data": {
            "text/plain": [
              "array([0.13754369, 0.24337861, 0.18697963, 0.25164387, 0.13774813,\n",
              "       0.25777475, 0.1918316 , 0.26896528, 0.39378831, 0.26827014,\n",
              "       0.31802015, 0.16084776, 0.35469106, 0.15057749, 0.32005777,\n",
              "       0.14245894, 0.2197229 , 0.35420048, 0.27003468, 0.37406303,\n",
              "       0.1906466 , 0.41515415, 0.20423219, 0.39962087, 0.14870495,\n",
              "       0.48631136, 0.36248778, 0.27313976, 0.39607759, 0.22643192,\n",
              "       0.44659319, 0.4038117 ])"
            ]
          },
          "metadata": {},
          "execution_count": 51
        }
      ]
    },
    {
      "cell_type": "markdown",
      "source": [
        "## average temperature (°C) - 2.5 minutes"
      ],
      "metadata": {
        "id": "cr-wL-HMTDi0"
      }
    },
    {
      "cell_type": "code",
      "source": [
        "!unzip -o wc2.1_2.5m_tavg.zip\n",
        "!raster2xyz wc2.1_2.5m_tavg_01.tif wc2.1_2.5m_tavg_01.csv"
      ],
      "metadata": {
        "colab": {
          "base_uri": "https://localhost:8080/"
        },
        "id": "18qPcQFSTJwk",
        "outputId": "d393575c-8919-49ee-e52d-c1a76eafe9df"
      },
      "execution_count": null,
      "outputs": [
        {
          "output_type": "stream",
          "name": "stdout",
          "text": [
            "Archive:  wc2.1_2.5m_tavg.zip\n",
            "  inflating: wc2.1_2.5m_tavg_01.tif  \n",
            "  inflating: wc2.1_2.5m_tavg_02.tif  \n",
            "  inflating: wc2.1_2.5m_tavg_03.tif  \n",
            "  inflating: wc2.1_2.5m_tavg_04.tif  \n",
            "  inflating: wc2.1_2.5m_tavg_05.tif  \n",
            "  inflating: wc2.1_2.5m_tavg_06.tif  \n",
            "  inflating: wc2.1_2.5m_tavg_07.tif  \n",
            "  inflating: wc2.1_2.5m_tavg_08.tif  \n",
            "  inflating: wc2.1_2.5m_tavg_09.tif  \n",
            "  inflating: wc2.1_2.5m_tavg_10.tif  \n",
            "  inflating: wc2.1_2.5m_tavg_11.tif  \n",
            "  inflating: wc2.1_2.5m_tavg_12.tif  \n",
            "[2024-05-05 03:55:30 - INFO] - Getting geotransform and data...\n",
            "[2024-05-05 03:55:32 - INFO] - Getting XYZ data...\n",
            "[2024-05-05 03:55:34 - INFO] - Getting geotransformed coordinates...\n",
            "[2024-05-05 03:55:36 - INFO] - Building XYZ data...\n",
            "[2024-05-05 03:58:48 - INFO] - New XYZ (csv file) created...\n"
          ]
        }
      ]
    },
    {
      "cell_type": "code",
      "source": [
        "caminho = 'wc2.1_2.5m_tavg_01.csv'"
      ],
      "metadata": {
        "id": "RvuEUh-yTJy2"
      },
      "execution_count": null,
      "outputs": []
    },
    {
      "cell_type": "code",
      "source": [
        "tempos_tavg_2_5m_pandas = calcular_tempo_execução(carregar_csv_pandas_dataframe, caminho)\n",
        "tempos_tavg_2_5m_pandas"
      ],
      "metadata": {
        "colab": {
          "base_uri": "https://localhost:8080/"
        },
        "id": "KPwfCaiOTJ1I",
        "outputId": "7da12be1-3318-4af4-f563-46a4fdec7e34"
      },
      "execution_count": null,
      "outputs": [
        {
          "output_type": "execute_result",
          "data": {
            "text/plain": [
              "array([25.92601895, 26.74321404, 37.76884241, 26.62354717, 22.06762857,\n",
              "       25.57530034, 21.0713868 , 25.58962923, 20.93037621, 27.3764099 ,\n",
              "       26.77860046, 26.85714983, 25.67785468, 20.99784634, 25.98157905,\n",
              "       21.12531006, 27.87736599, 21.00714787, 28.62419665, 25.87116102,\n",
              "       25.973081  , 23.76427789, 24.38630349, 23.00748256, 25.30407063,\n",
              "       22.25351067, 38.81897458, 27.74007003, 26.74062969, 25.7140308 ,\n",
              "       21.11864207, 25.82659912])"
            ]
          },
          "metadata": {},
          "execution_count": 54
        }
      ]
    },
    {
      "cell_type": "code",
      "source": [
        "tempos_tavg_2_5m_spark = calcular_tempo_execução(carregar_csv_spark_dataframe, caminho)\n",
        "tempos_tavg_2_5m_spark"
      ],
      "metadata": {
        "colab": {
          "base_uri": "https://localhost:8080/"
        },
        "id": "1hzm5VN1TKH2",
        "outputId": "04ff7a54-a159-43d9-85fb-57036ddad580"
      },
      "execution_count": null,
      "outputs": [
        {
          "output_type": "execute_result",
          "data": {
            "text/plain": [
              "array([0.41964448, 0.37372126, 0.39187688, 0.39344966, 0.21751081,\n",
              "       0.38105143, 0.21157695, 0.36150316, 0.26634291, 0.35143749,\n",
              "       0.27863522, 0.3935065 , 0.43555683, 0.21598705, 0.41468139,\n",
              "       0.31380944, 0.38622067, 0.28743104, 0.41143912, 0.34077392,\n",
              "       0.3325367 , 0.27403363, 0.38838305, 0.48656531, 0.21560195,\n",
              "       0.35215549, 0.30595384, 0.3825905 , 0.14454864, 0.17518703,\n",
              "       0.17586039, 0.13406395])"
            ]
          },
          "metadata": {},
          "execution_count": 55
        }
      ]
    },
    {
      "cell_type": "markdown",
      "source": [
        "## average temperature (°C) - 30 seconds"
      ],
      "metadata": {
        "id": "Ga3QAAgBTGMU"
      }
    },
    {
      "cell_type": "code",
      "source": [
        "!unzip -o wc2.1_30s_tavg.zip\n",
        "!raster2xyz wc2.1_30s_tavg_01.tif wc2.1_30s_tavg_01.csv"
      ],
      "metadata": {
        "colab": {
          "base_uri": "https://localhost:8080/"
        },
        "id": "cwv5r_X1TLiO",
        "outputId": "de3f3d40-5501-4af8-fe16-a0d815c68a8a"
      },
      "execution_count": null,
      "outputs": [
        {
          "output_type": "stream",
          "name": "stdout",
          "text": [
            "Archive:  wc2.1_30s_tavg.zip\n",
            "  inflating: wc2.1_30s_tavg_01.tif   \n",
            "  inflating: wc2.1_30s_tavg_02.tif   \n",
            "  inflating: wc2.1_30s_tavg_03.tif   \n",
            "  inflating: wc2.1_30s_tavg_04.tif   \n",
            "  inflating: wc2.1_30s_tavg_05.tif   \n",
            "  inflating: wc2.1_30s_tavg_06.tif   \n",
            "  inflating: wc2.1_30s_tavg_07.tif   \n",
            "  inflating: wc2.1_30s_tavg_08.tif   \n",
            "  inflating: wc2.1_30s_tavg_09.tif   \n",
            "  inflating: wc2.1_30s_tavg_10.tif   \n",
            "  inflating: wc2.1_30s_tavg_11.tif   \n",
            "  inflating: wc2.1_30s_tavg_12.tif   \n",
            "[2024-05-05 04:14:05 - INFO] - Getting geotransform and data...\n",
            "[2024-05-05 04:14:29 - INFO] - Getting XYZ data...\n",
            "^C\n"
          ]
        }
      ]
    },
    {
      "cell_type": "markdown",
      "source": [
        "⚠️⚠️⚠️ NÃO RODOU"
      ],
      "metadata": {
        "id": "IEAlK7M4TLqJ"
      }
    },
    {
      "cell_type": "markdown",
      "source": [
        "# ☔ precipitation (mm)\n",
        "---"
      ],
      "metadata": {
        "id": "M76rWtB-TfNh"
      }
    },
    {
      "cell_type": "markdown",
      "source": [
        "## precipitation (mm) - 10 minutes"
      ],
      "metadata": {
        "id": "r3w2qeuNTfpq"
      }
    },
    {
      "cell_type": "code",
      "source": [
        "!unzip -o wc2.1_10m_prec.zip\n",
        "!raster2xyz wc2.1_10m_prec_01.tif wc2.1_10m_prec_01.csv"
      ],
      "metadata": {
        "colab": {
          "base_uri": "https://localhost:8080/"
        },
        "id": "syixmZAHTnA3",
        "outputId": "af553292-10ec-4dc2-c2ef-69835cafe0cb"
      },
      "execution_count": null,
      "outputs": [
        {
          "output_type": "stream",
          "name": "stdout",
          "text": [
            "Archive:  wc2.1_10m_prec.zip\n",
            "  inflating: wc2.1_10m_prec_01.tif   \n",
            "  inflating: wc2.1_10m_prec_02.tif   \n",
            "  inflating: wc2.1_10m_prec_03.tif   \n",
            "  inflating: wc2.1_10m_prec_04.tif   \n",
            "  inflating: wc2.1_10m_prec_05.tif   \n",
            "  inflating: wc2.1_10m_prec_06.tif   \n",
            "  inflating: wc2.1_10m_prec_07.tif   \n",
            "  inflating: wc2.1_10m_prec_08.tif   \n",
            "  inflating: wc2.1_10m_prec_09.tif   \n",
            "  inflating: wc2.1_10m_prec_10.tif   \n",
            "  inflating: wc2.1_10m_prec_11.tif   \n",
            "  inflating: wc2.1_10m_prec_12.tif   \n",
            "  inflating: readme.txt              \n",
            "[2024-05-05 04:15:50 - INFO] - Getting geotransform and data...\n",
            "[2024-05-05 04:15:50 - INFO] - Getting XYZ data...\n",
            "[2024-05-05 04:15:51 - INFO] - Getting geotransformed coordinates...\n",
            "[2024-05-05 04:15:51 - INFO] - Building XYZ data...\n",
            "[2024-05-05 04:16:01 - INFO] - New XYZ (csv file) created...\n"
          ]
        }
      ]
    },
    {
      "cell_type": "code",
      "source": [
        "caminho = 'wc2.1_10m_prec_01.csv'"
      ],
      "metadata": {
        "id": "9Z70NJbXTnDg"
      },
      "execution_count": null,
      "outputs": []
    },
    {
      "cell_type": "code",
      "source": [
        "tempos_prec_10m_pandas = calcular_tempo_execução(carregar_csv_pandas_dataframe, caminho)\n",
        "tempos_prec_10m_pandas"
      ],
      "metadata": {
        "colab": {
          "base_uri": "https://localhost:8080/"
        },
        "id": "zn1XpvQhTnGH",
        "outputId": "efab08b3-2915-440b-d8d4-b71e72f28519"
      },
      "execution_count": null,
      "outputs": [
        {
          "output_type": "execute_result",
          "data": {
            "text/plain": [
              "array([1.51927415, 1.43707332, 1.414928  , 1.54524253, 1.50835236,\n",
              "       1.55149081, 1.51785936, 1.18579279, 0.95659283, 0.96206645,\n",
              "       0.95524317, 0.95848028, 0.9545697 , 0.95419605, 0.9551691 ,\n",
              "       0.94915459, 0.9490499 , 1.0540889 , 1.71353275, 1.46411795,\n",
              "       1.41847393, 1.4103377 , 1.54985966, 1.54938592, 1.57557736,\n",
              "       1.5551321 , 1.50846001, 1.42193133, 1.41690959, 1.41551479,\n",
              "       1.4321957 , 1.41176329])"
            ]
          },
          "metadata": {},
          "execution_count": 59
        }
      ]
    },
    {
      "cell_type": "code",
      "source": [
        "tempos_prec_10m_spark = calcular_tempo_execução(carregar_csv_spark_dataframe, caminho)\n",
        "tempos_prec_10m_spark"
      ],
      "metadata": {
        "colab": {
          "base_uri": "https://localhost:8080/"
        },
        "id": "s2NSUls-TnIa",
        "outputId": "76c46bba-a876-4949-9003-916eb8dbc9b1"
      },
      "execution_count": null,
      "outputs": [
        {
          "output_type": "execute_result",
          "data": {
            "text/plain": [
              "array([0.30482619, 0.13653409, 0.2120786 , 0.36034999, 0.28157877,\n",
              "       0.35912488, 0.1470022 , 0.21906631, 0.35057897, 0.23151211,\n",
              "       0.65682785, 0.24400139, 0.34776824, 0.37608672, 0.20400647,\n",
              "       0.37498888, 0.12676718, 0.22520513, 0.37019983, 0.26328045,\n",
              "       0.38790511, 0.16944001, 0.27755706, 0.40283426, 0.21213784,\n",
              "       0.3605708 , 0.14207367, 0.30304419, 0.49379443, 0.32167711,\n",
              "       0.39654875, 0.24292329])"
            ]
          },
          "metadata": {},
          "execution_count": 60
        }
      ]
    },
    {
      "cell_type": "markdown",
      "source": [
        "## precipitation (mm) - 5 minutes"
      ],
      "metadata": {
        "id": "d0OLU9b4ThTg"
      }
    },
    {
      "cell_type": "code",
      "source": [
        "!unzip -o wc2.1_5m_prec.zip\n",
        "!raster2xyz wc2.1_5m_prec_01.tif wc2.1_5m_prec_01.csv"
      ],
      "metadata": {
        "colab": {
          "base_uri": "https://localhost:8080/"
        },
        "id": "r6bT59P7ToVz",
        "outputId": "b62246c9-a22c-4d93-b834-49bf09da8ff0"
      },
      "execution_count": null,
      "outputs": [
        {
          "output_type": "stream",
          "name": "stdout",
          "text": [
            "Archive:  wc2.1_5m_prec.zip\n",
            "  inflating: wc2.1_5m_prec_01.tif    \n",
            "  inflating: wc2.1_5m_prec_02.tif    \n",
            "  inflating: wc2.1_5m_prec_03.tif    \n",
            "  inflating: wc2.1_5m_prec_04.tif    \n",
            "  inflating: wc2.1_5m_prec_05.tif    \n",
            "  inflating: wc2.1_5m_prec_06.tif    \n",
            "  inflating: wc2.1_5m_prec_07.tif    \n",
            "  inflating: wc2.1_5m_prec_08.tif    \n",
            "  inflating: wc2.1_5m_prec_09.tif    \n",
            "  inflating: wc2.1_5m_prec_10.tif    \n",
            "  inflating: wc2.1_5m_prec_11.tif    \n",
            "  inflating: wc2.1_5m_prec_12.tif    \n",
            "  inflating: readme.txt              \n",
            "[2024-05-05 04:16:55 - INFO] - Getting geotransform and data...\n",
            "[2024-05-05 04:16:55 - INFO] - Getting XYZ data...\n",
            "[2024-05-05 04:16:56 - INFO] - Getting geotransformed coordinates...\n",
            "[2024-05-05 04:16:56 - INFO] - Building XYZ data...\n",
            "[2024-05-05 04:17:40 - INFO] - New XYZ (csv file) created...\n"
          ]
        }
      ]
    },
    {
      "cell_type": "code",
      "source": [
        "caminho = 'wc2.1_5m_prec_01.csv'"
      ],
      "metadata": {
        "id": "axqlJPpwToYg"
      },
      "execution_count": null,
      "outputs": []
    },
    {
      "cell_type": "code",
      "source": [
        "tempos_prec_5m_pandas = calcular_tempo_execução(carregar_csv_pandas_dataframe, caminho)\n",
        "tempos_prec_5m_pandas"
      ],
      "metadata": {
        "colab": {
          "base_uri": "https://localhost:8080/"
        },
        "id": "vOfibPnBTobK",
        "outputId": "8a579f32-c6ab-4372-9703-1b9914c4e53e"
      },
      "execution_count": null,
      "outputs": [
        {
          "output_type": "execute_result",
          "data": {
            "text/plain": [
              "array([6.39154439, 5.92342111, 8.19233981, 7.01097071, 6.01643596,\n",
              "       6.10632513, 6.04347806, 5.95313455, 4.88316249, 3.85581206,\n",
              "       3.82810739, 6.0193482 , 6.19276883, 5.86391657, 5.72614275,\n",
              "       5.73212945, 5.73849574, 5.97827249, 4.58023509, 3.87089517,\n",
              "       4.0410539 , 5.95699763, 6.25491037, 5.80784164, 5.68447552,\n",
              "       5.73971775, 5.72248707, 5.99799691, 4.23508819, 3.84163777,\n",
              "       4.47294031, 5.963031  ])"
            ]
          },
          "metadata": {},
          "execution_count": 63
        }
      ]
    },
    {
      "cell_type": "code",
      "source": [
        "tempos_prec_5m_spark = calcular_tempo_execução(carregar_csv_spark_dataframe, caminho)\n",
        "tempos_prec_5m_spark"
      ],
      "metadata": {
        "colab": {
          "base_uri": "https://localhost:8080/"
        },
        "id": "xotWQPtUTooM",
        "outputId": "3fcbee82-31e7-44b8-8a88-6ae0e632fe41"
      },
      "execution_count": null,
      "outputs": [
        {
          "output_type": "execute_result",
          "data": {
            "text/plain": [
              "array([0.47869786, 0.31133547, 0.22973939, 0.47184205, 0.19267242,\n",
              "       0.27411474, 0.54871087, 0.27950166, 0.48008696, 0.26893477,\n",
              "       0.35111891, 0.44612285, 0.23773102, 0.43516525, 0.17638305,\n",
              "       0.45671845, 0.28400417, 0.24335205, 0.45140305, 0.22428442,\n",
              "       0.29164521, 0.47148469, 0.32091162, 0.44929981, 0.15532159,\n",
              "       0.27900936, 0.46287906, 0.33060799, 0.38303438, 0.15876685,\n",
              "       0.19132499, 0.38986449])"
            ]
          },
          "metadata": {},
          "execution_count": 64
        }
      ]
    },
    {
      "cell_type": "markdown",
      "source": [
        "## precipitation (mm) - 2.5 minutes"
      ],
      "metadata": {
        "id": "Tk3ZkVyTTjCP"
      }
    },
    {
      "cell_type": "code",
      "source": [
        "!unzip -o wc2.1_2.5m_prec.zip\n",
        "!raster2xyz wc2.1_2.5m_prec_01.tif wc2.1_2.5m_prec_01.csv"
      ],
      "metadata": {
        "colab": {
          "base_uri": "https://localhost:8080/"
        },
        "id": "fJ9Cz4k_TpM1",
        "outputId": "a510844c-5474-4ec0-fdef-704141a308ff"
      },
      "execution_count": null,
      "outputs": [
        {
          "output_type": "stream",
          "name": "stdout",
          "text": [
            "Archive:  wc2.1_2.5m_prec.zip\n",
            "  inflating: wc2.1_2.5m_prec_01.tif  \n",
            "  inflating: wc2.1_2.5m_prec_02.tif  \n",
            "  inflating: wc2.1_2.5m_prec_03.tif  \n",
            "  inflating: wc2.1_2.5m_prec_04.tif  \n",
            "  inflating: wc2.1_2.5m_prec_05.tif  \n",
            "  inflating: wc2.1_2.5m_prec_06.tif  \n",
            "  inflating: wc2.1_2.5m_prec_07.tif  \n",
            "  inflating: wc2.1_2.5m_prec_08.tif  \n",
            "  inflating: wc2.1_2.5m_prec_09.tif  \n",
            "  inflating: wc2.1_2.5m_prec_10.tif  \n",
            "  inflating: wc2.1_2.5m_prec_11.tif  \n",
            "  inflating: wc2.1_2.5m_prec_12.tif  \n",
            "  inflating: readme.txt              \n",
            "[2024-05-05 04:20:52 - INFO] - Getting geotransform and data...\n",
            "[2024-05-05 04:20:53 - INFO] - Getting XYZ data...\n",
            "[2024-05-05 04:20:55 - INFO] - Getting geotransformed coordinates...\n",
            "[2024-05-05 04:20:57 - INFO] - Building XYZ data...\n",
            "[2024-05-05 04:23:52 - INFO] - New XYZ (csv file) created...\n"
          ]
        }
      ]
    },
    {
      "cell_type": "code",
      "source": [
        "caminho = 'wc2.1_2.5m_prec_01.csv'"
      ],
      "metadata": {
        "id": "U7_P8OHiTpPX"
      },
      "execution_count": null,
      "outputs": []
    },
    {
      "cell_type": "code",
      "source": [
        "tempos_prec_2_5m_pandas = calcular_tempo_execução(carregar_csv_pandas_dataframe, caminho)\n",
        "tempos_prec_2_5m_pandas"
      ],
      "metadata": {
        "colab": {
          "base_uri": "https://localhost:8080/"
        },
        "id": "YjBKqBe1TpSH",
        "outputId": "d96bad14-5fc0-494f-a9eb-fb31fb728414"
      },
      "execution_count": null,
      "outputs": [
        {
          "output_type": "execute_result",
          "data": {
            "text/plain": [
              "array([19.45368084, 25.38011016, 34.14655192, 24.95996389, 24.46642099,\n",
              "       19.87932867, 23.35498997, 21.34926486, 21.86489129, 24.05995282,\n",
              "       24.75479788, 24.36242265, 24.72724992, 23.25351488, 20.70214057,\n",
              "       25.35938833, 23.47048783, 19.72788667, 25.08780571, 24.0962693 ,\n",
              "       23.8388793 , 23.90300585, 23.98627174, 23.06813673, 19.45825527,\n",
              "       23.5368384 , 22.99657036, 22.47849592, 36.81212408, 25.65002584,\n",
              "       24.19158434, 24.73529134])"
            ]
          },
          "metadata": {},
          "execution_count": 67
        }
      ]
    },
    {
      "cell_type": "code",
      "source": [
        "tempos_prec_2_5m_spark = calcular_tempo_execução(carregar_csv_spark_dataframe, caminho)\n",
        "tempos_prec_2_5m_spark"
      ],
      "metadata": {
        "colab": {
          "base_uri": "https://localhost:8080/"
        },
        "id": "ysU8eANjTpUk",
        "outputId": "3b752c7f-3245-49b8-f047-6ff180557e8e"
      },
      "execution_count": null,
      "outputs": [
        {
          "output_type": "execute_result",
          "data": {
            "text/plain": [
              "array([0.32496469, 0.29079905, 0.2562235 , 0.19999514, 0.21633655,\n",
              "       0.12899225, 0.22311023, 0.20631373, 0.21392008, 0.22193626,\n",
              "       0.21044452, 0.23971421, 0.12183562, 0.22069726, 0.27088385,\n",
              "       0.23300601, 0.25916312, 0.21282692, 0.22095109, 0.22071532,\n",
              "       0.11314382, 0.16685637, 0.13469988, 0.23159874, 0.13413818,\n",
              "       0.23526262, 0.1914287 , 0.0971901 , 0.14301413, 0.18201442,\n",
              "       0.15205962, 0.24408136])"
            ]
          },
          "metadata": {},
          "execution_count": 68
        }
      ]
    },
    {
      "cell_type": "markdown",
      "source": [
        "## precipitation (mm) - 30 seconds"
      ],
      "metadata": {
        "id": "B5_v0uqWTlEm"
      }
    },
    {
      "cell_type": "code",
      "source": [
        "!unzip -o wc2.1_30s_prec.zip\n",
        "!raster2xyz wc2.1_30s_prec_01.tif wc2.1_30s_prec_01.csv"
      ],
      "metadata": {
        "colab": {
          "base_uri": "https://localhost:8080/"
        },
        "id": "-1y9MaqGTqAi",
        "outputId": "c17ce3c3-0f11-490f-9b93-99522fea23bf"
      },
      "execution_count": null,
      "outputs": [
        {
          "output_type": "stream",
          "name": "stdout",
          "text": [
            "Archive:  wc2.1_30s_prec.zip\n",
            "  inflating: wc2.1_30s_prec_01.tif   \n",
            "  inflating: wc2.1_30s_prec_02.tif   \n",
            "  inflating: wc2.1_30s_prec_03.tif   \n",
            "  inflating: wc2.1_30s_prec_04.tif   \n",
            "  inflating: wc2.1_30s_prec_05.tif   \n",
            "  inflating: wc2.1_30s_prec_06.tif   \n",
            "  inflating: wc2.1_30s_prec_07.tif   \n",
            "  inflating: wc2.1_30s_prec_08.tif   \n",
            "  inflating: wc2.1_30s_prec_09.tif   \n",
            "  inflating: wc2.1_30s_prec_10.tif   \n",
            "  inflating: wc2.1_30s_prec_11.tif   \n",
            "  inflating: wc2.1_30s_prec_12.tif   \n",
            "  inflating: readme.txt              \n",
            "[2024-05-05 04:37:11 - INFO] - Getting geotransform and data...\n",
            "[2024-05-05 04:37:18 - INFO] - Getting XYZ data...\n",
            "^C\n"
          ]
        }
      ]
    },
    {
      "cell_type": "markdown",
      "source": [
        "⚠️⚠️⚠️ NÃO RODOU"
      ],
      "metadata": {
        "id": "yUz6T-1vTqOX"
      }
    },
    {
      "cell_type": "markdown",
      "source": [
        "# 🕵️‍♂️ Observações\n",
        "* Iterar o processo de descompactação usando o módulo 'os'.\n",
        "* Organizar melhor os diretórios de extração e criar variáveis globais para controlá-los.\n",
        "* Mencionar no artigo que as declarações de função retardam a execução do código, pois precisam ser carregadas na memória antes da execução, mas como os testes são todos realizados dentro da mesma estrutura, esse fator se torna equivalente entre as amostras.\n",
        "* Estruturar os resultados de tempo em um dicionário.\n",
        "* Referenciar o Kaggle no artigo, mas mencionar que não o utilizamos devido a problemas de estabilidade no ambiente.\n",
        "* Fornecer uma explicação melhor de como o timeit funciona e os parâmetros escolhidos.\n",
        "* Com o timeit, a latência não é uma preocupação, ao contrário do %%time; explicar isso mais detalhadamente.\n",
        "* Uso de arquivos colunares? Não neste estudo, mas um tópico potencial para um artigo futuro.\n",
        "* O erro ao extrair a resolução de 30 segundos é causado pela biblioteca ou pelo ambiente?\n",
        "* Databricks mais lento em resoluções menores, devido ao hardware ou características de processamento distribuído?\n",
        "* Fechar a sessão do Spark após o uso.\n",
        "* Código processando apenas o arquivo 01 de cada arquivo zipado."
      ],
      "metadata": {
        "id": "YlbobBYVVexr"
      }
    }
  ]
}